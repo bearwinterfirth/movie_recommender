{
 "cells": [
  {
   "cell_type": "code",
   "execution_count": 13,
   "metadata": {},
   "outputs": [
    {
     "name": "stdout",
     "output_type": "stream",
     "text": [
      "[[-0.75       -1.41421356 -0.56853297]\n",
      " [ 0.5        -0.70710678 -0.56622936]\n",
      " [ 1.75        0.         -0.54319317]\n",
      " [-0.75        0.70710678 -0.31283135]\n",
      " [-0.75        1.41421356  1.99078685]]\n"
     ]
    }
   ],
   "source": [
    "import pandas as pd\n",
    "import numpy as np\n",
    "from sklearn.preprocessing import StandardScaler\n",
    "\n",
    "df = pd.DataFrame(np.array([[1,10,1], [2,15,10], [3,20,100], [1,25,1000], [1,30,10000]]))\n",
    "scaler=StandardScaler()\n",
    "scaler.fit(df)\n",
    "\n",
    "print(scaler.transform(df))"
   ]
  }
 ],
 "metadata": {
  "kernelspec": {
   "display_name": ".venv",
   "language": "python",
   "name": "python3"
  },
  "language_info": {
   "codemirror_mode": {
    "name": "ipython",
    "version": 3
   },
   "file_extension": ".py",
   "mimetype": "text/x-python",
   "name": "python",
   "nbconvert_exporter": "python",
   "pygments_lexer": "ipython3",
   "version": "3.12.5"
  }
 },
 "nbformat": 4,
 "nbformat_minor": 2
}
