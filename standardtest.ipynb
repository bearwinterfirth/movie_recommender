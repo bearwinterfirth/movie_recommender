{
 "cells": [
  {
   "cell_type": "code",
   "execution_count": 21,
   "metadata": {},
   "outputs": [
    {
     "data": {
      "text/plain": [
       "array([[0.00000000e+00, 0.00000000e+00, 0.00000000e+00],\n",
       "       [5.00000000e-01, 2.50000000e-01, 9.00090009e-04],\n",
       "       [1.00000000e+00, 5.00000000e-01, 9.90099010e-03],\n",
       "       [0.00000000e+00, 7.50000000e-01, 9.99099910e-02],\n",
       "       [0.00000000e+00, 1.00000000e+00, 1.00000000e+00]])"
      ]
     },
     "execution_count": 21,
     "metadata": {},
     "output_type": "execute_result"
    }
   ],
   "source": [
    "import pandas as pd\n",
    "import numpy as np\n",
    "from sklearn.preprocessing import StandardScaler\n",
    "from sklearn.preprocessing import MinMaxScaler\n",
    "\n",
    "df = pd.DataFrame(np.array([[1,10,1], [2,15,10], [3,20,100], [1,25,1000], [1,30,10000]]))\n",
    "scaler=StandardScaler(with_mean=True, with_std=True)\n",
    "\n",
    "\n",
    "df1=(scaler.fit_transform(df))\n",
    "scaler=MinMaxScaler()\n",
    "df2=(scaler.fit_transform(df1))\n",
    "\n",
    "df2"
   ]
  }
 ],
 "metadata": {
  "kernelspec": {
   "display_name": ".venv",
   "language": "python",
   "name": "python3"
  },
  "language_info": {
   "codemirror_mode": {
    "name": "ipython",
    "version": 3
   },
   "file_extension": ".py",
   "mimetype": "text/x-python",
   "name": "python",
   "nbconvert_exporter": "python",
   "pygments_lexer": "ipython3",
   "version": "3.12.5"
  }
 },
 "nbformat": 4,
 "nbformat_minor": 2
}
